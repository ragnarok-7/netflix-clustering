{
 "cells": [
  {
   "cell_type": "code",
   "execution_count": 1,
   "id": "8d2edead-72cb-456c-91a2-6fd0dd8fedce",
   "metadata": {},
   "outputs": [
    {
     "name": "stdout",
     "output_type": "stream",
     "text": [
      "Executive summary, reproducible instructions, and quick cluster inspection for grading/submission.\n"
     ]
    }
   ],
   "source": [
    "# 05_final_results_and_report\n",
    "print(\"Executive summary, reproducible instructions, and quick cluster inspection for grading/submission.\")\n"
   ]
  },
  {
   "cell_type": "code",
   "execution_count": 2,
   "id": "d4f75710-563d-420d-821b-31d425432e08",
   "metadata": {},
   "outputs": [
    {
     "name": "stdout",
     "output_type": "stream",
     "text": [
      "Final dataset shape: (7787, 18)\n",
      "Cluster counts:\n"
     ]
    },
    {
     "data": {
      "text/plain": [
       "cluster\n",
       "0    2398\n",
       "1    5389\n",
       "Name: count, dtype: int64"
      ]
     },
     "metadata": {},
     "output_type": "display_data"
    }
   ],
   "source": [
    "# Cell 2: load final clusters and show summary\n",
    "import warnings\n",
    "warnings.filterwarnings(\"ignore\")\n",
    "import pandas as pd\n",
    "from pathlib import Path\n",
    "\n",
    "final_path = Path(\"C:/Users/KIIT/OneDrive/Documents/Labmentix/netflix/outputs/netflix_with_clusters.csv\")\n",
    "assert final_path.exists(), \"Run Notebook 04 to create outputs/netflix_with_clusters.csv\"\n",
    "\n",
    "df = pd.read_csv(final_path)\n",
    "print(\"Final dataset shape:\", df.shape)\n",
    "print(\"Cluster counts:\")\n",
    "display(df['cluster'].value_counts().sort_index())\n"
   ]
  },
  {
   "cell_type": "code",
   "execution_count": 3,
   "id": "2a6c7e52-0532-4c25-9272-a9f8ead0f079",
   "metadata": {},
   "outputs": [
    {
     "name": "stdout",
     "output_type": "stream",
     "text": [
      "\n",
      "Cluster 0 (n=2398)\n",
      "Top genres: {'[\"Kids\\' TV\"]': 205, \"['International TV Shows', 'TV Dramas']\": 111, \"['Crime TV Shows', 'International TV Shows', 'TV Dramas']\": 106, '[\"Kids\\' TV\", \\'TV Comedies\\']': 90, \"['International TV Shows', 'Romantic TV Shows', 'TV Dramas']\": 86, \"['Reality TV']\": 83, \"['International TV Shows', 'Romantic TV Shows', 'TV Comedies']\": 79, \"['Anime Series', 'International TV Shows']\": 75}\n",
      "Sample titles: ['3%', '46', '1983', '1994', 'Feb-09', '\\u200bSAINT SEIYA: Knights of the Zodiac', '(Un)Well', '#blackAF']\n",
      "\n",
      "Cluster 1 (n=5389)\n",
      "Top genres: {\"['Documentaries']\": 334, \"['Stand-Up Comedy']\": 321, \"['Dramas', 'International Movies']\": 320, \"['Comedies', 'Dramas', 'International Movies']\": 243, \"['Dramas', 'Independent Movies', 'International Movies']\": 215, \"['Children & Family Movies']\": 177, \"['Documentaries', 'International Movies']\": 172, \"['Children & Family Movies', 'Comedies']\": 169}\n",
      "Sample titles: ['7:19', '23:59', '9', '21', '122', '187', '706', '1920']\n"
     ]
    }
   ],
   "source": [
    "# Cell 3: show sample titles & top genres per cluster to help naming clusters\n",
    "for c in sorted(df['cluster'].unique()):\n",
    "    print(f\"\\nCluster {c} (n={len(df[df['cluster']==c])})\")\n",
    "    if 'genres_list' in df.columns:\n",
    "        print(\"Top genres:\", df[df['cluster']==c]['genres_list'].explode().value_counts().head(8).to_dict())\n",
    "    print(\"Sample titles:\", df[df['cluster']==c]['title'].dropna().head(8).tolist())\n"
   ]
  },
  {
   "cell_type": "code",
   "execution_count": 4,
   "id": "6cb7f724-7940-4005-ac8a-caf73844386b",
   "metadata": {},
   "outputs": [
    {
     "name": "stdout",
     "output_type": "stream",
     "text": [
      "1. Run notebooks in order: 01 → 02 → 03 → 04 → 05.\n",
      "2. Files created in `outputs/`:\n",
      "   - `cleaned_netflix.csv`\n",
      "   - `with_baseline_labels.csv`\n",
      "   - `X_combined.npy`\n",
      "   - `netflix_with_clusters.csv`  ← final deliverable\n",
      "   - model artifacts in `outputs/` (tfidf, svd, mlb, kmeans_final)\n",
      "3. For GitHub: commit notebooks, scripts, requirements.txt, README.md. **Do NOT** commit the full CSV or large output files; instead provide instructions in `data/README.md` about where to place the CSV.\n",
      "4. Record your demo video walking through 05_final_results_and_report.ipynb and show the saved `outputs/netflix_with_clusters.csv`.\n"
     ]
    }
   ],
   "source": [
    "## Reproducibility & submission checklist\n",
    "\n",
    "print(\"\"\"1. Run notebooks in order: 01 → 02 → 03 → 04 → 05.\n",
    "2. Files created in `outputs/`:\n",
    "   - `cleaned_netflix.csv`\n",
    "   - `with_baseline_labels.csv`\n",
    "   - `X_combined.npy`\n",
    "   - `netflix_with_clusters.csv`  ← final deliverable\n",
    "   - model artifacts in `outputs/` (tfidf, svd, mlb, kmeans_final)\n",
    "3. For GitHub: commit notebooks, scripts, requirements.txt, README.md. **Do NOT** commit the full CSV or large output files; instead provide instructions in `data/README.md` about where to place the CSV.\n",
    "4. Record your demo video walking through 05_final_results_and_report.ipynb and show the saved `outputs/netflix_with_clusters.csv`.\"\"\")\n"
   ]
  },
  {
   "cell_type": "code",
   "execution_count": 5,
   "id": "3f7a1c31-cc4e-4d1f-b350-4f3f45fc1dfa",
   "metadata": {},
   "outputs": [
    {
     "name": "stdout",
     "output_type": "stream",
     "text": [
      "- Replace TF-IDF + SVD with sentence-transformers (BERT) for better semantic clusters.\n",
      "- Try density-based clustering (HDBSCAN) to find variable-density clusters.\n",
      "- Build an interactive dashboard with Plotly to explore clusters\n"
     ]
    }
   ],
   "source": [
    "## Limitations & next steps\n",
    "print(\"\"\"- Replace TF-IDF + SVD with sentence-transformers (BERT) for better semantic clusters.\n",
    "- Try density-based clustering (HDBSCAN) to find variable-density clusters.\n",
    "- Build an interactive dashboard with Plotly to explore clusters\"\"\")\n"
   ]
  }
 ],
 "metadata": {
  "kernelspec": {
   "display_name": "Python 3 (ipykernel)",
   "language": "python",
   "name": "python3"
  },
  "language_info": {
   "codemirror_mode": {
    "name": "ipython",
    "version": 3
   },
   "file_extension": ".py",
   "mimetype": "text/x-python",
   "name": "python",
   "nbconvert_exporter": "python",
   "pygments_lexer": "ipython3",
   "version": "3.10.11"
  }
 },
 "nbformat": 4,
 "nbformat_minor": 5
}
