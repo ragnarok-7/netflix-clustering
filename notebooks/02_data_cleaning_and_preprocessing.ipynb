{
 "cells": [
  {
   "cell_type": "code",
   "execution_count": 1,
   "id": "25754446-ab24-4798-85e7-843e7adc8442",
   "metadata": {},
   "outputs": [
    {
     "name": "stdout",
     "output_type": "stream",
     "text": [
      "Clean dataset and produce `outputs/cleaned_netflix.csv`.\n"
     ]
    }
   ],
   "source": [
    "# 02_data_cleaning_and_preprocessing\n",
    "print(\"Clean dataset and produce `outputs/cleaned_netflix.csv`.\")\n"
   ]
  },
  {
   "cell_type": "code",
   "execution_count": 14,
   "id": "0aefe029-c365-4c7b-b319-8ba302aa6998",
   "metadata": {},
   "outputs": [
    {
     "name": "stdout",
     "output_type": "stream",
     "text": [
      "Loaded raw data. Shape: (7787, 12)\n"
     ]
    }
   ],
   "source": [
    "# Cell 1\n",
    "import warnings\n",
    "warnings.filterwarnings(\"ignore\")\n",
    "\n",
    "from pathlib import Path\n",
    "import pandas as pd\n",
    "import numpy as np\n",
    "import re\n",
    "\n",
    "PROJECT_ROOT = Path(\"C:/Users/KIIT/OneDrive/Documents/Labmentix/netflix\")\n",
    "RAW_CSV = PROJECT_ROOT / \"data\" / \"raw\" / \"NETFLIX MOVIES AND TV SHOWS CLUSTERING.csv\"\n",
    "CLEANED_OUT = PROJECT_ROOT / \"outputs\" / \"cleaned_netflix.csv\"\n",
    "CLEANED_OUT.parent.mkdir(parents=True, exist_ok=True)\n",
    "\n",
    "df = pd.read_csv(RAW_CSV)\n",
    "print(\"Loaded raw data. Shape:\", df.shape)\n"
   ]
  },
  {
   "cell_type": "code",
   "execution_count": 8,
   "id": "00345e43-a73e-4567-a7ab-f69c4c662a9c",
   "metadata": {},
   "outputs": [
    {
     "name": "stdout",
     "output_type": "stream",
     "text": [
      "Removed 0 duplicate rows. New shape: (7787, 12)\n"
     ]
    }
   ],
   "source": [
    "# Notebook 02 — Cell 2\n",
    "# Remove exact duplicates by title + release_year\n",
    "initial = df.shape[0]\n",
    "df.drop_duplicates(subset=[\"title\", \"release_year\"], inplace=True)\n",
    "print(f\"Removed {initial - df.shape[0]} duplicate rows. New shape: {df.shape}\")\n"
   ]
  },
  {
   "cell_type": "code",
   "execution_count": 15,
   "id": "eb552a28-6d7a-4739-aea1-ea9463ae00ce",
   "metadata": {},
   "outputs": [
    {
     "name": "stdout",
     "output_type": "stream",
     "text": [
      "Filled missing values for description, listed_in, duration.\n"
     ]
    }
   ],
   "source": [
    "# Cell 3-Fill key text fields with empty strings (safe choice)\n",
    "for col in [\"description\", \"listed_in\", \"duration\"]:\n",
    "    if col in df.columns:\n",
    "        df[col] = df[col].fillna(\"\").astype(str)\n",
    "print(\"Filled missing values for description, listed_in, duration.\")\n"
   ]
  },
  {
   "cell_type": "code",
   "execution_count": 16,
   "id": "dab46704-acd3-4401-9ed8-051f7749eb45",
   "metadata": {},
   "outputs": [
    {
     "name": "stdout",
     "output_type": "stream",
     "text": [
      "Parsed duration -> duration_num. Example:\n"
     ]
    },
    {
     "data": {
      "text/html": [
       "<div>\n",
       "<style scoped>\n",
       "    .dataframe tbody tr th:only-of-type {\n",
       "        vertical-align: middle;\n",
       "    }\n",
       "\n",
       "    .dataframe tbody tr th {\n",
       "        vertical-align: top;\n",
       "    }\n",
       "\n",
       "    .dataframe thead th {\n",
       "        text-align: right;\n",
       "    }\n",
       "</style>\n",
       "<table border=\"1\" class=\"dataframe\">\n",
       "  <thead>\n",
       "    <tr style=\"text-align: right;\">\n",
       "      <th></th>\n",
       "      <th>duration</th>\n",
       "      <th>duration_num</th>\n",
       "    </tr>\n",
       "  </thead>\n",
       "  <tbody>\n",
       "    <tr>\n",
       "      <th>0</th>\n",
       "      <td>4 Seasons</td>\n",
       "      <td>4</td>\n",
       "    </tr>\n",
       "    <tr>\n",
       "      <th>1</th>\n",
       "      <td>93 min</td>\n",
       "      <td>93</td>\n",
       "    </tr>\n",
       "    <tr>\n",
       "      <th>2</th>\n",
       "      <td>78 min</td>\n",
       "      <td>78</td>\n",
       "    </tr>\n",
       "    <tr>\n",
       "      <th>3</th>\n",
       "      <td>80 min</td>\n",
       "      <td>80</td>\n",
       "    </tr>\n",
       "    <tr>\n",
       "      <th>4</th>\n",
       "      <td>123 min</td>\n",
       "      <td>123</td>\n",
       "    </tr>\n",
       "    <tr>\n",
       "      <th>5</th>\n",
       "      <td>1 Season</td>\n",
       "      <td>1</td>\n",
       "    </tr>\n",
       "  </tbody>\n",
       "</table>\n",
       "</div>"
      ],
      "text/plain": [
       "    duration  duration_num\n",
       "0  4 Seasons             4\n",
       "1     93 min            93\n",
       "2     78 min            78\n",
       "3     80 min            80\n",
       "4    123 min           123\n",
       "5   1 Season             1"
      ]
     },
     "metadata": {},
     "output_type": "display_data"
    }
   ],
   "source": [
    "# Cell 4\n",
    "def parse_duration_to_num(val):\n",
    "    if pd.isna(val) or val == \"\":\n",
    "        return np.nan\n",
    "    s = str(val).lower()\n",
    "    m = re.search(r\"(\\d+)\", s)\n",
    "    if m:\n",
    "        return int(m.group(1))\n",
    "    return np.nan\n",
    "\n",
    "df[\"duration_num\"] = df[\"duration\"].apply(parse_duration_to_num)\n",
    "print(\"Parsed duration -> duration_num. Example:\")\n",
    "display(df[[\"duration\", \"duration_num\"]].head(6))\n"
   ]
  },
  {
   "cell_type": "code",
   "execution_count": 17,
   "id": "22b9c17d-0368-4cd3-89ed-39782f8ef4f1",
   "metadata": {},
   "outputs": [
    {
     "name": "stdout",
     "output_type": "stream",
     "text": [
      "Converted 'listed_in' to genres_list (list). Sample:\n"
     ]
    },
    {
     "data": {
      "text/html": [
       "<div>\n",
       "<style scoped>\n",
       "    .dataframe tbody tr th:only-of-type {\n",
       "        vertical-align: middle;\n",
       "    }\n",
       "\n",
       "    .dataframe tbody tr th {\n",
       "        vertical-align: top;\n",
       "    }\n",
       "\n",
       "    .dataframe thead th {\n",
       "        text-align: right;\n",
       "    }\n",
       "</style>\n",
       "<table border=\"1\" class=\"dataframe\">\n",
       "  <thead>\n",
       "    <tr style=\"text-align: right;\">\n",
       "      <th></th>\n",
       "      <th>listed_in</th>\n",
       "      <th>genres_list</th>\n",
       "    </tr>\n",
       "  </thead>\n",
       "  <tbody>\n",
       "    <tr>\n",
       "      <th>0</th>\n",
       "      <td>International TV Shows, TV Dramas, TV Sci-Fi &amp;...</td>\n",
       "      <td>[International TV Shows, TV Dramas, TV Sci-Fi ...</td>\n",
       "    </tr>\n",
       "    <tr>\n",
       "      <th>1</th>\n",
       "      <td>Dramas, International Movies</td>\n",
       "      <td>[Dramas, International Movies]</td>\n",
       "    </tr>\n",
       "    <tr>\n",
       "      <th>2</th>\n",
       "      <td>Horror Movies, International Movies</td>\n",
       "      <td>[Horror Movies, International Movies]</td>\n",
       "    </tr>\n",
       "    <tr>\n",
       "      <th>3</th>\n",
       "      <td>Action &amp; Adventure, Independent Movies, Sci-Fi...</td>\n",
       "      <td>[Action &amp; Adventure, Independent Movies, Sci-F...</td>\n",
       "    </tr>\n",
       "  </tbody>\n",
       "</table>\n",
       "</div>"
      ],
      "text/plain": [
       "                                           listed_in  \\\n",
       "0  International TV Shows, TV Dramas, TV Sci-Fi &...   \n",
       "1                       Dramas, International Movies   \n",
       "2                Horror Movies, International Movies   \n",
       "3  Action & Adventure, Independent Movies, Sci-Fi...   \n",
       "\n",
       "                                         genres_list  \n",
       "0  [International TV Shows, TV Dramas, TV Sci-Fi ...  \n",
       "1                     [Dramas, International Movies]  \n",
       "2              [Horror Movies, International Movies]  \n",
       "3  [Action & Adventure, Independent Movies, Sci-F...  "
      ]
     },
     "metadata": {},
     "output_type": "display_data"
    }
   ],
   "source": [
    "# Cell 5-Convert listed_in to list field genres_list\n",
    "if \"listed_in\" in df.columns:\n",
    "    df[\"genres_list\"] = df[\"listed_in\"].apply(lambda s: [x.strip() for x in s.split(\",\") if x.strip()])\n",
    "else:\n",
    "    df[\"genres_list\"] = [[] for _ in range(len(df))]\n",
    "\n",
    "print(\"Converted 'listed_in' to genres_list (list). Sample:\")\n",
    "display(df[[\"listed_in\", \"genres_list\"]].head(4))\n"
   ]
  },
  {
   "cell_type": "code",
   "execution_count": 18,
   "id": "8404a556-e508-418e-9d02-6981fe3de416",
   "metadata": {},
   "outputs": [
    {
     "name": "stdout",
     "output_type": "stream",
     "text": [
      "Saved cleaned CSV to: C:\\Users\\KIIT\\OneDrive\\Documents\\Labmentix\\netflix\\outputs\\cleaned_netflix.csv\n"
     ]
    }
   ],
   "source": [
    "# Cell 6\n",
    "df.to_csv(CLEANED_OUT, index=False)\n",
    "print(\"Saved cleaned CSV to:\", CLEANED_OUT)\n"
   ]
  },
  {
   "cell_type": "code",
   "execution_count": null,
   "id": "c2f36b56-0175-487d-9ffb-1956b7922442",
   "metadata": {},
   "outputs": [],
   "source": []
  }
 ],
 "metadata": {
  "kernelspec": {
   "display_name": "Python 3 (ipykernel)",
   "language": "python",
   "name": "python3"
  },
  "language_info": {
   "codemirror_mode": {
    "name": "ipython",
    "version": 3
   },
   "file_extension": ".py",
   "mimetype": "text/x-python",
   "name": "python",
   "nbconvert_exporter": "python",
   "pygments_lexer": "ipython3",
   "version": "3.10.11"
  }
 },
 "nbformat": 4,
 "nbformat_minor": 5
}
