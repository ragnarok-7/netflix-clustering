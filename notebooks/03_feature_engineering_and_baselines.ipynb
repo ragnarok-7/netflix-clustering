{
 "cells": [
  {
   "cell_type": "code",
   "execution_count": 1,
   "id": "1f63ca58-e50a-460d-8bec-1e3f70181116",
   "metadata": {},
   "outputs": [
    {
     "name": "stdout",
     "output_type": "stream",
     "text": [
      "Build TF-IDF text features, reduce with TruncatedSVD, encode genres, run baseline clustering experiments (genres-only, text-only, combined).\n"
     ]
    }
   ],
   "source": [
    "# 03_feature_engineering_and_baselines\n",
    "print(\"Build TF-IDF text features, reduce with TruncatedSVD, encode genres, run baseline clustering experiments (genres-only, text-only, combined).\")\n"
   ]
  },
  {
   "cell_type": "code",
   "execution_count": 2,
   "id": "7345345c-0332-4a2e-b2ad-b91e34995061",
   "metadata": {},
   "outputs": [
    {
     "name": "stdout",
     "output_type": "stream",
     "text": [
      "Working rows: 7787\n"
     ]
    }
   ],
   "source": [
    "# Cell 2: imports and load cleaned csv (with optional sampling)\n",
    "import warnings\n",
    "warnings.filterwarnings(\"ignore\")\n",
    "\n",
    "from pathlib import Path\n",
    "import numpy as np\n",
    "import pandas as pd\n",
    "from sklearn.feature_extraction.text import TfidfVectorizer\n",
    "from sklearn.decomposition import TruncatedSVD\n",
    "from sklearn.preprocessing import MultiLabelBinarizer\n",
    "from sklearn.cluster import KMeans\n",
    "from sklearn.metrics import silhouette_score\n",
    "import joblib\n",
    "\n",
    "RANDOM_STATE = 42\n",
    "CLEANED_CSV = Path(\"C:/Users/KIIT/OneDrive/Documents/Labmentix/netflix/outputs/cleaned_netflix.csv\")\n",
    "assert CLEANED_CSV.exists(), \"Run Notebook 02 first to produce outputs/cleaned_netflix.csv\"\n",
    "\n",
    "df = pd.read_csv(CLEANED_CSV)\n",
    "\n",
    "# If genres_list is stored as string (rare), convert safely\n",
    "def ensure_list(x):\n",
    "    if pd.isna(x) or x == \"\":\n",
    "        return []\n",
    "    if isinstance(x, list):\n",
    "        return x\n",
    "    s = str(x)\n",
    "    if s.startswith('[') and s.endswith(']'):\n",
    "        s2 = s.strip('[]')\n",
    "        return [p.strip().strip(\"'\\\"\") for p in s2.split(',') if p.strip()]\n",
    "    return [p.strip() for p in s.split(',') if p.strip()]\n",
    "\n",
    "df['genres_list'] = df.get('genres_list', \"\").apply(ensure_list)\n",
    "print(\"Working rows:\", len(df))\n",
    "\n",
    "# SAMPLE_SIZE: set integer to sample for speed (None uses full dataset)\n",
    "SAMPLE_SIZE = None\n",
    "if SAMPLE_SIZE is not None and len(df) > SAMPLE_SIZE:\n",
    "    df = df.sample(n=SAMPLE_SIZE, random_state=RANDOM_STATE).reset_index(drop=True)\n",
    "    print(\"Sampled to\", len(df))\n"
   ]
  },
  {
   "cell_type": "code",
   "execution_count": 4,
   "id": "72053970-ac3d-49b2-b83e-76b35678f0fc",
   "metadata": {},
   "outputs": [
    {
     "name": "stdout",
     "output_type": "stream",
     "text": [
      "TF-IDF shape: (7787, 3000)\n",
      "Reduced text shape: (7787, 50)\n"
     ]
    },
    {
     "data": {
      "text/plain": [
       "['C:/Users/KIIT/OneDrive/Documents/Labmentix/netflix/outputs/svd.joblib']"
      ]
     },
     "execution_count": 4,
     "metadata": {},
     "output_type": "execute_result"
    }
   ],
   "source": [
    "# Cell 3: TF-IDF + TruncatedSVD\n",
    "descriptions = df['description'].fillna(\"\").astype(str)\n",
    "\n",
    "tfidf = TfidfVectorizer(max_df=0.80, min_df=5, max_features=3000, ngram_range=(1,2))\n",
    "X_text = tfidf.fit_transform(descriptions)\n",
    "print(\"TF-IDF shape:\", X_text.shape)\n",
    "\n",
    "n_svd = 50 if X_text.shape[0] > 200 else min(20, X_text.shape[1])\n",
    "svd = TruncatedSVD(n_components=n_svd, random_state=RANDOM_STATE)\n",
    "X_text_red = svd.fit_transform(X_text)\n",
    "print(\"Reduced text shape:\", X_text_red.shape)\n",
    "\n",
    "# Save vectorizers\n",
    "Path(\"C:/Users/KIIT/OneDrive/Documents/Labmentix/netflix/outputs\").mkdir(exist_ok=True)\n",
    "joblib.dump(tfidf, \"C:/Users/KIIT/OneDrive/Documents/Labmentix/netflix/outputs/tfidf.joblib\")\n",
    "joblib.dump(svd, \"C:/Users/KIIT/OneDrive/Documents/Labmentix/netflix/outputs/svd.joblib\")\n"
   ]
  },
  {
   "cell_type": "code",
   "execution_count": 5,
   "id": "358603f9-fb62-4f4c-b88f-88af657a0c31",
   "metadata": {},
   "outputs": [
    {
     "name": "stdout",
     "output_type": "stream",
     "text": [
      "Genres shape: (7787, 42)\n",
      "Combined feature shape: (7787, 94)\n"
     ]
    }
   ],
   "source": [
    "# Cell 4: genres matrix & numeric features\n",
    "mlb = MultiLabelBinarizer(sparse_output=False)\n",
    "X_genres = mlb.fit_transform(df['genres_list'])\n",
    "print(\"Genres shape:\", X_genres.shape)\n",
    "joblib.dump(mlb, \"C:/Users/KIIT/OneDrive/Documents/Labmentix/netflix/outputs/mlb.joblib\")\n",
    "\n",
    "duration = df.get('duration_num', pd.Series([np.nan]*len(df))).fillna(-1).values.reshape(-1,1)\n",
    "release_year = pd.to_numeric(df.get('release_year', pd.Series([np.nan]*len(df))), errors='coerce').fillna(-1).values.reshape(-1,1)\n",
    "\n",
    "# Combine: text + genres + numeric\n",
    "X_combined = np.hstack([X_text_red, X_genres, duration, release_year])\n",
    "print(\"Combined feature shape:\", X_combined.shape)\n"
   ]
  },
  {
   "cell_type": "code",
   "execution_count": 6,
   "id": "8329e41e-c921-4944-93ba-5d2d93034333",
   "metadata": {},
   "outputs": [
    {
     "name": "stdout",
     "output_type": "stream",
     "text": [
      "Baseline silhouette scores: {'genres_only': 0.20229962160557366, 'text_only': 0.04889988392435852, 'combined': 0.5844546759233296}\n"
     ]
    }
   ],
   "source": [
    "# Cell 5: baseline clustering (k=5) for genres-only, text-only, combined\n",
    "def run_kmeans(X, k=5):\n",
    "    km = KMeans(n_clusters=k, random_state=RANDOM_STATE, n_init=10)\n",
    "    labels = km.fit_predict(X)\n",
    "    s = silhouette_score(X, labels) if len(set(labels))>1 else float('nan')\n",
    "    return labels, s\n",
    "\n",
    "results = {}\n",
    "if X_genres.shape[1] > 0:\n",
    "    lab_g, s_g = run_kmeans(X_genres, k=5)\n",
    "    results['genres_only'] = s_g\n",
    "else:\n",
    "    results['genres_only'] = None\n",
    "\n",
    "lab_t, s_t = run_kmeans(X_text_red, k=5)\n",
    "lab_c, s_c = run_kmeans(X_combined, k=5)\n",
    "\n",
    "results['text_only'] = s_t\n",
    "results['combined'] = s_c\n",
    "print(\"Baseline silhouette scores:\", results)\n",
    "\n",
    "# attach baseline labels to df for inspection\n",
    "df['cluster_genres_baseline'] = lab_g if 'lab_g' in locals() else -1\n",
    "df['cluster_text_baseline'] = lab_t\n",
    "df['cluster_combined_baseline'] = lab_c\n"
   ]
  },
  {
   "cell_type": "code",
   "execution_count": 7,
   "id": "647ce84c-45b6-4aa4-ae63-5892ffa68e06",
   "metadata": {},
   "outputs": [
    {
     "name": "stdout",
     "output_type": "stream",
     "text": [
      "Combined baseline samples per cluster:\n",
      "Cluster 0 ['3%', '46', '1983', '1994', 'Feb-09', '\\u200bSAINT SEIYA: Knights of the Zodiac']\n",
      "Cluster 1 ['21', '187', '706', '15-Aug', '\\u200b\\u200bKuch Bheege Alfaaz', '\\u200bGoli Soda 2']\n",
      "Cluster 2 ['23:59', '#Rucker50', '100 Things to do Before High School', \"100 Years: One Woman's Fight for Justice\", '13TH: A Conversation with Oprah Winfrey & Ava DuVernay', '27: Gone Too Soon']\n",
      "Cluster 3 ['1920', 'Oct-01', '22-Jul', '2 States', '3 Idiots', '7 Khoon Maaf']\n",
      "Cluster 4 ['7:19', '9', '122', '1922', '2,215', '3022']\n"
     ]
    }
   ],
   "source": [
    "# Cell 6: inspect a few examples per combined baseline cluster\n",
    "print(\"Combined baseline samples per cluster:\")\n",
    "for c in sorted(df['cluster_combined_baseline'].unique()):\n",
    "    print(\"Cluster\", c, df[df['cluster_combined_baseline']==c]['title'].dropna().head(6).tolist())\n"
   ]
  },
  {
   "cell_type": "code",
   "execution_count": 8,
   "id": "79e84e80-8375-4d6f-a5f9-5768120d8f6e",
   "metadata": {},
   "outputs": [
    {
     "name": "stdout",
     "output_type": "stream",
     "text": [
      "Saved outputs/X_combined.npy and outputs/with_baseline_labels.csv\n"
     ]
    }
   ],
   "source": [
    "# Cell 7: save features & labels for downstream notebooks\n",
    "import numpy as np\n",
    "np.save(\"C:/Users/KIIT/OneDrive/Documents/Labmentix/netflix/outputs/X_combined.npy\", X_combined)\n",
    "df.to_csv(\"C:/Users/KIIT/OneDrive/Documents/Labmentix/netflix/outputs/with_baseline_labels.csv\", index=False)\n",
    "print(\"Saved outputs/X_combined.npy and outputs/with_baseline_labels.csv\")\n"
   ]
  }
 ],
 "metadata": {
  "kernelspec": {
   "display_name": "Python 3 (ipykernel)",
   "language": "python",
   "name": "python3"
  },
  "language_info": {
   "codemirror_mode": {
    "name": "ipython",
    "version": 3
   },
   "file_extension": ".py",
   "mimetype": "text/x-python",
   "name": "python",
   "nbconvert_exporter": "python",
   "pygments_lexer": "ipython3",
   "version": "3.10.11"
  }
 },
 "nbformat": 4,
 "nbformat_minor": 5
}
